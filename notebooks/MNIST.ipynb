{
 "cells": [
  {
   "cell_type": "code",
   "execution_count": 1,
   "id": "4140e9bf",
   "metadata": {},
   "outputs": [],
   "source": [
    "import os\n",
    "import torch\n",
    "import numpy as np\n",
    "\n",
    "from model.HarsanyiNet import HarsanyiNet\n",
    "from utils.attribute import HarsanyiNetAttribute\n",
    "\n",
    "from utils.data import get_data_loader\n",
    "from utils.plot import plot_shapley"
   ]
  },
  {
   "cell_type": "code",
   "execution_count": 2,
   "id": "89854531",
   "metadata": {},
   "outputs": [],
   "source": [
    "train_loader, test_loader, num_classes = get_data_loader('MNIST', 50)\n",
    "device = 'cuda:0' if torch.cuda.is_available() else 'cpu'"
   ]
  },
  {
   "cell_type": "code",
   "execution_count": 3,
   "id": "e3f115ce",
   "metadata": {},
   "outputs": [],
   "source": [
    "num_layers = 4     \n",
    "channels = 32      \n",
    "beta = 100         \n",
    "gamma = 0.05       \n",
    "num_classes = 10\n",
    "in_channels = 1\n",
    "\n",
    "path_dir = f\"layers{num_layers}_channels{channels}_beta{beta}_gamma{gamma}\"\n",
    "model_path = os.path.join('./pretrained_model/MNIST', path_dir, 'model_pths/MNIST.pth')"
   ]
  },
  {
   "cell_type": "code",
   "execution_count": 4,
   "id": "75b6b166",
   "metadata": {},
   "outputs": [],
   "source": [
    "model = HarsanyiNet(num_layers=num_layers, channel_extend=channels,\n",
    "                    beta=beta, gamma=gamma,\n",
    "                    num_classes=num_classes, device=device, in_channels=in_channels).to(device)\n",
    "\n",
    "model.load_state_dict(torch.load(model_path, map_location=device))\n",
    "model = model.to(device)"
   ]
  },
  {
   "cell_type": "code",
   "execution_count": 5,
   "id": "f1b99b00",
   "metadata": {},
   "outputs": [
    {
     "name": "stdout",
     "output_type": "stream",
     "text": [
      "test_acc: 0.9879\n",
      "\n"
     ]
    }
   ],
   "source": [
    "# verify the classification performance\n",
    "test_correct_value = 0\n",
    "test_total_num = 0\n",
    "\n",
    "for i, (x_te, y_te) in enumerate(test_loader):\n",
    "    x_te = x_te.to(device)\n",
    "    y_te = y_te.to(device)\n",
    "\n",
    "    with torch.no_grad():\n",
    "        y_pred = model(x_te)\n",
    "        test_correct_value += (y_pred.max(1)[1] == y_te).sum().item()\n",
    "        test_total_num += x_te.size(0)\n",
    "\n",
    "avg_te_acc = test_correct_value / test_total_num\n",
    "print(f\"test_acc: {avg_te_acc:.4f}\\n\")"
   ]
  },
  {
   "cell_type": "code",
   "execution_count": 6,
   "id": "d7e84772",
   "metadata": {},
   "outputs": [],
   "source": [
    "# get z0\n",
    "index = 0\n",
    "batch = 0\n",
    "\n",
    "for i, (x_te, y_te) in enumerate(test_loader):\n",
    "    x_te = x_te.to(device)\n",
    "    y_te = y_te.to(device)\n",
    "    if i == batch:\n",
    "        x_te = x_te[index].unsqueeze(0)\n",
    "        label = int(y_te[index])\n",
    "        break\n",
    "\n",
    "model = model.double()  # double float to ensure accurate attribution\n",
    "x_te = x_te.double()\n",
    "z0 = model._get_z0(x_te).double()"
   ]
  },
  {
   "cell_type": "code",
   "execution_count": 7,
   "id": "c2924201",
   "metadata": {},
   "outputs": [],
   "source": [
    "def HarsanyiNetShapley(model, x_te, label):\n",
    "    calculator = HarsanyiNetAttribute(model=model, device=device)\n",
    "    harsanyi = calculator.attribute(model=model, image=x_te, target_label=label)\n",
    "    Harsanyi_Shapley = calculator.get_shapley(harsanyi=harsanyi)\n",
    "\n",
    "    return Harsanyi_Shapley"
   ]
  },
  {
   "cell_type": "code",
   "execution_count": 8,
   "id": "2f5c3205",
   "metadata": {},
   "outputs": [
    {
     "data": {
      "image/png": "[encoded data removed]",
      "text/plain": [
       "<Figure size 432x432 with 2 Axes>"
      ]
     },
     "metadata": {
      "needs_background": "light"
     },
     "output_type": "display_data"
    }
   ],
   "source": [
    "# compute the Shapley values using HarsanyiNet\n",
    "Harsanyi_Shap = HarsanyiNetShapley(model, z0, label)\n",
    "\n",
    "path = os.path.join('./pretrained_model/MNIST', path_dir, str(index))\n",
    "plot_shapley(Harsanyi_Shap, path=path, str=f'{index} (HarsanyiNet)')"
   ]
  },
  {
   "cell_type": "code",
   "execution_count": 9,
   "id": "d00e053f",
   "metadata": {},
   "outputs": [],
   "source": [
    "def SamplingShapley(model, x_te, label, runs=200):\n",
    "    shapley = shapley_sampling(model=model, image=x_te, target_label=label, device=device, runs=runs)\n",
    "    Sampling_Shapley = shapley.reshape(x_te.shape[-1], x_te.shape[-1])\n",
    "\n",
    "    return Sampling_Shapley"
   ]
  },
  {
   "cell_type": "code",
   "execution_count": 10,
   "id": "d79c569d",
   "metadata": {},
   "outputs": [
    {
     "data": {
      "image/png": "[encoded data removed]",
      "text/plain": [
       "<Figure size 432x432 with 2 Axes>"
      ]
     },
     "metadata": {
      "needs_background": "light"
     },
     "output_type": "display_data"
    }
   ],
   "source": [
    "# compute the Shapley values using the sampling method\n",
    "# the larger the number of iterations (runs) of the sampling method, the more accurate the sampling method is\n",
    "from utils.image.shapley_sampling import shapley_sampling\n",
    "runs = 20000\n",
    "Sampling_Shap = SamplingShapley(model, z0, label, runs=runs)  \n",
    "\n",
    "path = os.path.join('./pretrained_model/MNIST', path_dir, str(index)+'sampling')\n",
    "np.save(path + '.npy', Sampling_Shap)\n",
    "vmax = max(Harsanyi_Shap.max(), -Harsanyi_Shap.min())\n",
    "plot_shapley(Harsanyi_Shap, path=path, str=f'{index} (Sampling {runs})', vmax=vmax)"
   ]
  },
  {
   "cell_type": "code",
   "execution_count": 11,
   "id": "2ef38044",
   "metadata": {},
   "outputs": [
    {
     "name": "stdout",
     "output_type": "stream",
     "text": [
      "RMSE of HarsanyiNet (1) and Sampling method (20000): 0.00508044035878322\n"
     ]
    },
    {
     "data": {
      "text/plain": [
       "0.00508044035878322"
      ]
     },
     "execution_count": 11,
     "metadata": {},
     "output_type": "execute_result"
    }
   ],
   "source": [
    "def get_RMSE(method1, method2, str):\n",
    "    gt = method1.reshape(-1)\n",
    "    value = method2.reshape(-1)\n",
    "    dim = gt.shape[0]\n",
    "    loss_abs = np.abs(value - gt)\n",
    "    RMSE = np.sqrt((loss_abs**2).sum() / dim)\n",
    "    print(f\"RMSE of {str}: {RMSE.item()}\")\n",
    "    return RMSE\n",
    "\n",
    "get_RMSE(Harsanyi_Shap, Sampling_Shap, f\"HarsanyiNet (1) and Sampling method ({runs})\")"
   ]
  }
 ],
 "metadata": {
  "kernelspec": {
   "display_name": "Python 3",
   "language": "python",
   "name": "python3"
  },
  "language_info": {
   "codemirror_mode": {
    "name": "ipython",
    "version": 3
   },
   "file_extension": ".py",
   "mimetype": "text/x-python",
   "name": "python",
   "nbconvert_exporter": "python",
   "pygments_lexer": "ipython3",
   "version": "3.7.6"
  }
 },
 "nbformat": 4,
 "nbformat_minor": 5
}
